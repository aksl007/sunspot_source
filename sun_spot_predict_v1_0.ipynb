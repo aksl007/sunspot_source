{
 "cells": [
  {
   "cell_type": "code",
   "execution_count": 2,
   "id": "8fd413b8-c8f6-4e4d-ae21-c2dc2727065a",
   "metadata": {},
   "outputs": [
    {
     "name": "stdout",
     "output_type": "stream",
     "text": [
      "Collecting pillow\n",
      "  Downloading pillow-10.4.0-cp38-cp38-win_amd64.whl.metadata (9.3 kB)\n",
      "Downloading pillow-10.4.0-cp38-cp38-win_amd64.whl (2.6 MB)\n",
      "   ---------------------------------------- 0.0/2.6 MB ? eta -:--:--\n",
      "   ------------ --------------------------- 0.8/2.6 MB 4.8 MB/s eta 0:00:01\n",
      "   -------------------------------- ------- 2.1/2.6 MB 5.6 MB/s eta 0:00:01\n",
      "   ---------------------------------------- 2.6/2.6 MB 5.4 MB/s eta 0:00:00\n",
      "Installing collected packages: pillow\n",
      "Successfully installed pillow-10.4.0\n"
     ]
    }
   ],
   "source": [
    "!pip install pillow"
   ]
  },
  {
   "cell_type": "code",
   "execution_count": 37,
   "id": "646012cc-2d5d-441e-b1da-70f06092d58b",
   "metadata": {},
   "outputs": [],
   "source": [
    "import tkinter as tk\n",
    "from tkinter import filedialog\n",
    "from PIL import Image\n",
    "import os\n",
    "import cv2\n",
    "import numpy as np\n",
    "from tensorflow.keras.models import load_model\n",
    "from tensorflow.keras import layers, models"
   ]
  },
  {
   "cell_type": "code",
   "execution_count": 34,
   "id": "f974cfe0-fa7e-40aa-a472-50bb79eb0a0c",
   "metadata": {},
   "outputs": [],
   "source": [
    "# 모델 불러오기\n",
    "cnn_model = load_model(r'C:\\Users\\JinSeong\\jupyter_notebook\\files\\sun_spot_cnn_model')\n",
    "feature_extractor = models.Sequential(cnn_model.layers[:-2])  # 마지막 레이어 제외\n",
    "# 모델 불러오기\n",
    "rnn_model = load_model(r'C:\\Users\\JinSeong\\jupyter_notebook\\files\\sun_spot_rnn_model')"
   ]
  },
  {
   "cell_type": "code",
   "execution_count": 59,
   "id": "30726a7d-dffe-4512-af81-150f65f87dd5",
   "metadata": {},
   "outputs": [
    {
     "name": "stdout",
     "output_type": "stream",
     "text": [
      "2010-08-12.jpg\n",
      "2010-08-13.jpg\n",
      "2010-08-14.jpg\n",
      "2010-08-15.jpg\n",
      "2010-08-16.jpg\n"
     ]
    }
   ],
   "source": [
    "# tkinter GUI 창 숨기기\n",
    "root = tk.Tk()\n",
    "root.withdraw()\n",
    "\n",
    "# 파일 다이얼로그로 이미지 파일 5장 선택하기\n",
    "file_paths = filedialog.askopenfilenames(\n",
    "    title=\"Select 5 Images\",\n",
    "    filetypes=[(\"Image Files\", \"*.jpg;*.jpeg;*.png;*.bmp;*.tiff\")],\n",
    ")\n",
    "\n",
    "test_image_data = []\n",
    "\n",
    "for file in file_paths:\n",
    "    date_str = os.path.basename(file).split('_')[0]\n",
    "    print(date_str)\n",
    "    \n",
    "\n",
    "    # 이미지를 로드 (전처리된 이미지 사용)\n",
    "    # 리사이즈\n",
    "    \n",
    "    img = cv2.imread(file, cv2.IMREAD_GRAYSCALE)  # 필요에 따라 색상 형식 수정\n",
    "    img_resized = cv2.resize(img, (256, 256))  # 100x100 크기로 조정\n",
    "    reg_img = img_resized / 255.0  # 이미지 크기 조정 및 정규화\n",
    "    test_image_data.append(reg_img)\n",
    "\n"
   ]
  },
  {
   "cell_type": "code",
   "execution_count": 60,
   "id": "8378116a-b493-48eb-96e3-7049df8dd9a7",
   "metadata": {},
   "outputs": [
    {
     "data": {
      "text/plain": [
       "35.550823"
      ]
     },
     "execution_count": 60,
     "metadata": {},
     "output_type": "execute_result"
    }
   ],
   "source": [
    "# TEST Data CNN 특징 추출\n",
    "test_features = []\n",
    "for img in test_image_data:\n",
    "    img = img.reshape(1, 256, 256, 1)\n",
    "    feature = feature_extractor.predict(img)\n",
    "    test_features.append(feature[0])\n",
    "\n",
    "\n",
    "# 리스트를 numpy 배열로 변환 후 reshape\n",
    "x_test = np.array(test_features).reshape(1, 5, 256)\n",
    "\n",
    "\n",
    "next_pred = rnn_model.predict(x_test)\n",
    "next_pred[0][0]"
   ]
  },
  {
   "cell_type": "code",
   "execution_count": null,
   "id": "36fef565-cbc2-4540-9202-60fd646ac080",
   "metadata": {},
   "outputs": [],
   "source": []
  }
 ],
 "metadata": {
  "kernelspec": {
   "display_name": "myenv",
   "language": "python",
   "name": "tensorflow-env"
  },
  "language_info": {
   "codemirror_mode": {
    "name": "ipython",
    "version": 3
   },
   "file_extension": ".py",
   "mimetype": "text/x-python",
   "name": "python",
   "nbconvert_exporter": "python",
   "pygments_lexer": "ipython3",
   "version": "3.8.20"
  }
 },
 "nbformat": 4,
 "nbformat_minor": 5
}
